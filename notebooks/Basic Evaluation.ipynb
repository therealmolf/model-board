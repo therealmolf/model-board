{
 "cells": [
  {
   "cell_type": "code",
   "execution_count": 2,
   "metadata": {},
   "outputs": [
    {
     "name": "stdout",
     "output_type": "stream",
     "text": [
      "Python implementation: CPython\n",
      "Python version       : 3.9.5\n",
      "IPython version      : 8.16.1\n",
      "\n",
      "numpy       : 1.26.0\n",
      "pandas      : 2.1.1\n",
      "matplotlib  : not installed\n",
      "scikit-learn: 1.3.1\n",
      "\n"
     ]
    }
   ],
   "source": [
    "%load_ext watermark\n",
    "%watermark  -v -p numpy,pandas,matplotlib,scikit-learn"
   ]
  },
  {
   "cell_type": "markdown",
   "metadata": {},
   "source": [
    "### Setup"
   ]
  },
  {
   "cell_type": "code",
   "execution_count": 8,
   "metadata": {},
   "outputs": [],
   "source": [
    "from sklearn import datasets\n",
    "import numpy as np"
   ]
  },
  {
   "cell_type": "code",
   "execution_count": null,
   "metadata": {},
   "outputs": [],
   "source": [
    "dir(datasets)"
   ]
  },
  {
   "cell_type": "code",
   "execution_count": 5,
   "metadata": {},
   "outputs": [],
   "source": [
    "iris = datasets.load_iris()"
   ]
  },
  {
   "cell_type": "code",
   "execution_count": 14,
   "metadata": {},
   "outputs": [
    {
     "data": {
      "text/plain": [
       "150"
      ]
     },
     "execution_count": 14,
     "metadata": {},
     "output_type": "execute_result"
    }
   ],
   "source": [
    "len(iris.target)"
   ]
  },
  {
   "cell_type": "markdown",
   "metadata": {},
   "source": [
    "### Creating a Baseline Model Class for PyTorch\n",
    "---"
   ]
  },
  {
   "cell_type": "markdown",
   "metadata": {},
   "source": [
    "#### Random Baseline"
   ]
  },
  {
   "cell_type": "code",
   "execution_count": 43,
   "metadata": {},
   "outputs": [],
   "source": [
    "# This should be flexible to classification and regression, for numerical and textual labels\n",
    "# Perhaps, target_range can be refactored to an array of values to be sampled\n",
    "\n",
    "def random_baseline(target_range: tuple,\n",
    "                    target_count: int) -> np.ndarray:\n",
    "    \"\"\"\n",
    "        Generate an array of size target_count\n",
    "    \"\"\"\n",
    "\n",
    "    return np.random.randint(target_range[0], target_range[1]+1, size=target_count)"
   ]
  },
  {
   "cell_type": "markdown",
   "metadata": {},
   "source": [
    "#### Zero Rule Baseline"
   ]
  },
  {
   "cell_type": "code",
   "execution_count": null,
   "metadata": {},
   "outputs": [],
   "source": [
    "# This is only dependent on the label distribution\n",
    "def zero_rule_baseline():\n",
    "    pass"
   ]
  },
  {
   "cell_type": "markdown",
   "metadata": {},
   "source": [
    "#### Heuristic Baseline"
   ]
  },
  {
   "cell_type": "code",
   "execution_count": null,
   "metadata": {},
   "outputs": [],
   "source": [
    "# Should be a wrapper function for accessing a few features\n",
    "def heuristic_baseline():\n",
    "    pass"
   ]
  },
  {
   "cell_type": "code",
   "execution_count": 19,
   "metadata": {},
   "outputs": [
    {
     "name": "stdout",
     "output_type": "stream",
     "text": [
      "[2 1 2 2 1 2 1 2 0 0 0 2 0 2 0 0 0 1 2 2 2 2 2 0 2 1 2 1 0 0 0 1 0 0 1 1 2\n",
      " 0 2 1 1 0 2 2 0 0 1 2 2 2 1 0 2 2 1 1 0 1 0 0 0 2 0 1 1 2 0 2 2 1 2 2 1 2\n",
      " 1 0 1 0 0 0 2 1 2 1 0 0 0 2 0 0 0 2 2 0 1 2 2 2 1 2 1 0 1 2 1 0 0 0 2 2 2\n",
      " 2 2 1 0 0 2 0 1 2 0 2 0 2 0 2 0 2 0 2 2 2 1 0 0 0 1 0 0 2 2 0 0 1 1 0 1 0\n",
      " 0 0]\n"
     ]
    }
   ],
   "source": [
    "TARGET_RANGE = (0, 2)\n",
    "TARGET_COUNT = 150\n",
    "\n",
    "print(random_baseline(TARGET_RANGE, TARGET_COUNT))"
   ]
  }
 ],
 "metadata": {
  "kernelspec": {
   "display_name": "model-board",
   "language": "python",
   "name": "python3"
  },
  "language_info": {
   "codemirror_mode": {
    "name": "ipython",
    "version": 3
   },
   "file_extension": ".py",
   "mimetype": "text/x-python",
   "name": "python",
   "nbconvert_exporter": "python",
   "pygments_lexer": "ipython3",
   "version": "3.9.5"
  },
  "orig_nbformat": 4
 },
 "nbformat": 4,
 "nbformat_minor": 2
}
